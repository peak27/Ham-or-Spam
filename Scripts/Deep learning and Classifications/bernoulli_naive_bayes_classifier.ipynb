{
 "cells": [
  {
   "cell_type": "code",
   "execution_count": 2,
   "metadata": {},
   "outputs": [
    {
     "data": {
      "text/html": [
       "<div>\n",
       "<style scoped>\n",
       "    .dataframe tbody tr th:only-of-type {\n",
       "        vertical-align: middle;\n",
       "    }\n",
       "\n",
       "    .dataframe tbody tr th {\n",
       "        vertical-align: top;\n",
       "    }\n",
       "\n",
       "    .dataframe thead th {\n",
       "        text-align: right;\n",
       "    }\n",
       "</style>\n",
       "<table border=\"1\" class=\"dataframe\">\n",
       "  <thead>\n",
       "    <tr style=\"text-align: right;\">\n",
       "      <th></th>\n",
       "      <th>type</th>\n",
       "      <th>text</th>\n",
       "    </tr>\n",
       "  </thead>\n",
       "  <tbody>\n",
       "    <tr>\n",
       "      <th>0</th>\n",
       "      <td>ham</td>\n",
       "      <td>Go until jurong point, crazy.. Available only ...</td>\n",
       "    </tr>\n",
       "    <tr>\n",
       "      <th>1</th>\n",
       "      <td>ham</td>\n",
       "      <td>Ok lar... Joking wif u oni...</td>\n",
       "    </tr>\n",
       "    <tr>\n",
       "      <th>2</th>\n",
       "      <td>spam</td>\n",
       "      <td>Free entry in 2 a wkly comp to win FA Cup fina...</td>\n",
       "    </tr>\n",
       "    <tr>\n",
       "      <th>3</th>\n",
       "      <td>ham</td>\n",
       "      <td>U dun say so early hor... U c already then say...</td>\n",
       "    </tr>\n",
       "    <tr>\n",
       "      <th>4</th>\n",
       "      <td>ham</td>\n",
       "      <td>Nah I don't think he goes to usf, he lives aro...</td>\n",
       "    </tr>\n",
       "  </tbody>\n",
       "</table>\n",
       "</div>"
      ],
      "text/plain": [
       "   type                                               text\n",
       "0   ham  Go until jurong point, crazy.. Available only ...\n",
       "1   ham                      Ok lar... Joking wif u oni...\n",
       "2  spam  Free entry in 2 a wkly comp to win FA Cup fina...\n",
       "3   ham  U dun say so early hor... U c already then say...\n",
       "4   ham  Nah I don't think he goes to usf, he lives aro..."
      ]
     },
     "execution_count": 2,
     "metadata": {},
     "output_type": "execute_result"
    }
   ],
   "source": [
    "import matplotlib.pyplot as plt\n",
    "%matplotlib inline\n",
    "import numpy as np\n",
    "import pandas as pd\n",
    "\n",
    "from sklearn.model_selection import train_test_split\n",
    "from sklearn.feature_extraction.text import CountVectorizer, TfidfVectorizer\n",
    "from sklearn.naive_bayes import BernoulliNB\n",
    "from sklearn.preprocessing import LabelEncoder\n",
    "from sklearn import metrics\n",
    "from sklearn.metrics import confusion_matrix, classification_report, mean_squared_error\n",
    "\n",
    "df = pd.read_csv('./project_data/sms_spam.csv',delimiter=',',encoding='UTF-8')\n",
    "df.head()"
   ]
  },
  {
   "cell_type": "markdown",
   "metadata": {},
   "source": [
    "## Bernoulli Naive Bayes Classifier"
   ]
  },
  {
   "cell_type": "code",
   "execution_count": 2,
   "metadata": {},
   "outputs": [],
   "source": [
    "X = pd.DataFrame(df['text'])\n",
    "Y = pd.DataFrame(df['type'])\n",
    "X_train_raw, X_test_raw, y_train, y_test = train_test_split(df.text,df.type,test_size=0.2,random_state = 0)"
   ]
  },
  {
   "cell_type": "code",
   "execution_count": 3,
   "metadata": {},
   "outputs": [],
   "source": [
    "le = LabelEncoder()\n",
    "\n",
    "Y_train = le.fit_transform(y_train)\n",
    "\n",
    "Y_test = le.fit_transform(y_test)\n",
    "\n",
    "vectorizer = TfidfVectorizer()\n",
    "X_train = vectorizer.fit_transform(X_train_raw)"
   ]
  },
  {
   "cell_type": "code",
   "execution_count": 4,
   "metadata": {},
   "outputs": [
    {
     "name": "stdout",
     "output_type": "stream",
     "text": [
      "Accuracy is 0.9730941704035875\n",
      "MSE: 0.026905829596412557\n",
      "confusion matrix:\n",
      " [[949   1]\n",
      " [ 29 136]]\n",
      "              precision    recall  f1-score   support\n",
      "\n",
      "         ham       0.97      1.00      0.98       950\n",
      "        spam       0.99      0.82      0.90       165\n",
      "\n",
      "    accuracy                           0.97      1115\n",
      "   macro avg       0.98      0.91      0.94      1115\n",
      "weighted avg       0.97      0.97      0.97      1115\n",
      "\n"
     ]
    }
   ],
   "source": [
    "classifier = BernoulliNB()\n",
    "classifier.fit(X_train, Y_train)\n",
    "\n",
    "X_test = vectorizer.transform(X_test_raw)\n",
    "predictions = classifier.predict(X_test)\n",
    "#print(predictions)\n",
    "print ('Accuracy is {}'.format(classifier.score(X_test, Y_test)))\n",
    "\n",
    "y_pred = pd.DataFrame(predictions)\n",
    "print('MSE: {}'.format(mean_squared_error(Y_test, y_pred)))\n",
    "      \n",
    "comat = confusion_matrix(Y_test, y_pred)\n",
    "#comat = confusion_matrix(y_pred,y_test)\n",
    "\n",
    "print('confusion matrix:\\n {}'.format(comat))\n",
    "\n",
    "print(classification_report(Y_test, y_pred, target_names=['ham', 'spam']))"
   ]
  },
  {
   "cell_type": "code",
   "execution_count": 5,
   "metadata": {},
   "outputs": [
    {
     "data": {
      "image/png": "[encoded data removed]",
      "text/plain": [
       "<Figure size 432x288 with 1 Axes>"
      ]
     },
     "metadata": {
      "needs_background": "light"
     },
     "output_type": "display_data"
    }
   ],
   "source": [
    "y_predicted_bernoulli = classifier.predict_proba(X_test)[:, 1]\n",
    "\n",
    "fpr_bernoulli, tpr_bernoulli, thresholds_logistic = metrics.roc_curve(Y_test, y_predicted_bernoulli)\n",
    "\n",
    "auc_bernoulli = metrics.auc(fpr_bernoulli, tpr_bernoulli)\n",
    "\n",
    "plt.plot(fpr_bernoulli, tpr_bernoulli, label='Bernoulli Naive Bayes Classifier (AUC = %.2f)'%auc_bernoulli)\n",
    "plt.legend()\n",
    "plt.title('ROC curve')\n",
    "plt.xlabel('False Positive Rate')\n",
    "plt.ylabel('True Positive Rate')\n",
    "plt.grid(True)\n",
    "plt.show()"
   ]
  },
  {
   "cell_type": "markdown",
   "metadata": {},
   "source": [
    "## Using the cross-validation"
   ]
  },
  {
   "cell_type": "markdown",
   "metadata": {},
   "source": [
    "## Since I changed the scikit-learn to use the cross-validation, if you implement the following code, please change your _validation.py (sklearn/model_selection/_validation.py) to _validation.py I provided."
   ]
  },
  {
   "cell_type": "code",
   "execution_count": 2,
   "metadata": {},
   "outputs": [],
   "source": [
    "from sklearn.model_selection import cross_val_score, KFold, StratifiedKFold, StratifiedShuffleSplit\n",
    "from sklearn.linear_model import LogisticRegression "
   ]
  },
  {
   "cell_type": "code",
   "execution_count": 3,
   "metadata": {},
   "outputs": [],
   "source": [
    "X_row = df.text.values.tolist()\n",
    "y_row = df.type.values.tolist()\n",
    "\n",
    "vectorizer = TfidfVectorizer()\n",
    "data = vectorizer.fit_transform(X_row)\n",
    "\n",
    "le = LabelEncoder()\n",
    "\n",
    "label = le.fit_transform(y_row)\n",
    "\n",
    "classifier = BernoulliNB()\n",
    "\n",
    "kfold = StratifiedKFold(n_splits=5, shuffle = True, random_state = 0)"
   ]
  },
  {
   "cell_type": "code",
   "execution_count": 4,
   "metadata": {},
   "outputs": [
    {
     "name": "stdout",
     "output_type": "stream",
     "text": [
      "Cross-validation scores: [0.98744395 0.9793722  0.9793722  0.97488789 0.98294434]\n",
      "Average cross-validation score: 0.9808041155775253\n",
      "MSE: [0.01255605 0.0206278  0.0206278  0.02511211 0.01705566]\n",
      "Average MSE: 0.01919588442247466\n"
     ]
    }
   ],
   "source": [
    "scores = cross_val_score(classifier, data, label, cv=kfold)\n",
    "\n",
    "print(\"Cross-validation scores: {}\".format(scores[\"results\"]))\n",
    "print(\"Average cross-validation score: {}\".format(scores[\"results\"].mean()))\n",
    "print(\"MSE: {}\".format(scores[\"mse\"]))\n",
    "print(\"Average MSE: {}\".format(scores[\"mse\"].mean()))"
   ]
  },
  {
   "cell_type": "code",
   "execution_count": 5,
   "metadata": {},
   "outputs": [
    {
     "name": "stdout",
     "output_type": "stream",
     "text": [
      "Confusion matrix1:\n",
      "[[966   0]\n",
      " [ 14 135]]\n",
      "Confusion matrix2:\n",
      "[[964   2]\n",
      " [ 21 128]]\n",
      "Confusion matrix3:\n",
      "[[963   2]\n",
      " [ 21 129]]\n",
      "Confusion matrix4:\n",
      "[[958   7]\n",
      " [ 21 129]]\n",
      "Confusion matrix5:\n",
      "[[963   2]\n",
      " [ 17 132]]\n"
     ]
    }
   ],
   "source": [
    "for i in range(len(scores[\"conf\"])):\n",
    "    print(\"Confusion matrix\" + str(i+1) + \":\\n{}\".format(scores[\"conf\"][i]))"
   ]
  },
  {
   "cell_type": "code",
   "execution_count": 6,
   "metadata": {},
   "outputs": [
    {
     "name": "stdout",
     "output_type": "stream",
     "text": [
      "Classification Report1:\n",
      "                  ham        spam  accuracy    macro avg  weighted avg\n",
      "precision    0.985714    1.000000  0.987444     0.992857      0.987623\n",
      "recall       1.000000    0.906040  0.987444     0.953020      0.987444\n",
      "f1-score     0.992806    0.950704  0.987444     0.971755      0.987180\n",
      "support    966.000000  149.000000  0.987444  1115.000000   1115.000000\n",
      "\n",
      "Classification Report2:\n",
      "                  ham        spam  accuracy    macro avg  weighted avg\n",
      "precision    0.978680    0.984615  0.979372     0.981648      0.979473\n",
      "recall       0.997930    0.859060  0.979372     0.928495      0.979372\n",
      "f1-score     0.988211    0.917563  0.979372     0.952887      0.978770\n",
      "support    966.000000  149.000000  0.979372  1115.000000   1115.000000\n",
      "\n",
      "Classification Report3:\n",
      "                  ham        spam  accuracy    macro avg  weighted avg\n",
      "precision    0.978659    0.984733  0.979372     0.981696      0.979476\n",
      "recall       0.997927    0.860000  0.979372     0.928964      0.979372\n",
      "f1-score     0.988199    0.918149  0.979372     0.953174      0.978775\n",
      "support    965.000000  150.000000  0.979372  1115.000000   1115.000000\n",
      "\n",
      "Classification Report4:\n",
      "                  ham        spam  accuracy    macro avg  weighted avg\n",
      "precision    0.978550    0.948529  0.974888     0.963539      0.974511\n",
      "recall       0.992746    0.860000  0.974888     0.926373      0.974888\n",
      "f1-score     0.985597    0.902098  0.974888     0.943847      0.974364\n",
      "support    965.000000  150.000000  0.974888  1115.000000   1115.000000\n",
      "\n",
      "Classification Report5:\n",
      "                  ham        spam  accuracy    macro avg  weighted avg\n",
      "precision    0.982653    0.985075  0.982944     0.983864      0.982977\n",
      "recall       0.997927    0.885906  0.982944     0.941917      0.982944\n",
      "f1-score     0.990231    0.932862  0.982944     0.961547      0.982558\n",
      "support    965.000000  149.000000  0.982944  1114.000000   1114.000000\n",
      "\n"
     ]
    }
   ],
   "source": [
    "for i in range(len(scores[\"class_report\"])):\n",
    "    report = pd.DataFrame(scores[\"class_report\"][i])\n",
    "    report = report.rename(columns={'0': 'ham', '1': 'spam'})\n",
    "    print(\"Classification Report\" + str(i+1) + \":\\n{}\\n\".format(report))"
   ]
  },
  {
   "cell_type": "code",
   "execution_count": 7,
   "metadata": {},
   "outputs": [
    {
     "data": {
      "image/png": "[encoded data removed]",
      "text/plain": [
       "<Figure size 432x288 with 1 Axes>"
      ]
     },
     "metadata": {
      "needs_background": "light"
     },
     "output_type": "display_data"
    }
   ],
   "source": [
    "for i in range(len(scores[\"prob\"])):\n",
    "    # calculate FPR, TPR\n",
    "    fpr_bernoulli, tpr_bernoulli, thresholds_lbernoulli = metrics.roc_curve(scores[\"prob\"][i][1], scores[\"prob\"][i][0][:,1])\n",
    "\n",
    "    # calculate AUC\n",
    "    auc_bernoulli = metrics.auc(fpr_bernoulli, tpr_bernoulli)\n",
    "\n",
    "    # plot ROC curves\n",
    "    plt.plot(fpr_bernoulli, tpr_bernoulli, label='Bernoulli Naive Bayes Classifier' + str(i+1) + '(AUC = %.2f)'%auc_bernoulli)\n",
    "    plt.legend()\n",
    "    plt.title('ROC curve')\n",
    "    plt.xlabel('False Positive Rate')\n",
    "    plt.ylabel('True Positive Rate')\n",
    "    plt.grid(True)\n",
    "    #plt.show()\n",
    "    plt.savefig('ROC_naive_bayes.png')"
   ]
  },
  {
   "cell_type": "code",
   "execution_count": null,
   "metadata": {},
   "outputs": [],
   "source": []
  }
 ],
 "metadata": {
  "kernelspec": {
   "display_name": "Python 3",
   "language": "python",
   "name": "python3"
  },
  "language_info": {
   "codemirror_mode": {
    "name": "ipython",
    "version": 3
   },
   "file_extension": ".py",
   "mimetype": "text/x-python",
   "name": "python",
   "nbconvert_exporter": "python",
   "pygments_lexer": "ipython3",
   "version": "3.6.9"
  }
 },
 "nbformat": 4,
 "nbformat_minor": 2
}
