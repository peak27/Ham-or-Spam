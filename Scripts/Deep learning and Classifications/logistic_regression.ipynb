{
 "cells": [
  {
   "cell_type": "code",
   "execution_count": 2,
   "metadata": {
    "scrolled": true
   },
   "outputs": [
    {
     "data": {
      "text/html": [
       "<div>\n",
       "<style scoped>\n",
       "    .dataframe tbody tr th:only-of-type {\n",
       "        vertical-align: middle;\n",
       "    }\n",
       "\n",
       "    .dataframe tbody tr th {\n",
       "        vertical-align: top;\n",
       "    }\n",
       "\n",
       "    .dataframe thead th {\n",
       "        text-align: right;\n",
       "    }\n",
       "</style>\n",
       "<table border=\"1\" class=\"dataframe\">\n",
       "  <thead>\n",
       "    <tr style=\"text-align: right;\">\n",
       "      <th></th>\n",
       "      <th>type</th>\n",
       "      <th>text</th>\n",
       "    </tr>\n",
       "  </thead>\n",
       "  <tbody>\n",
       "    <tr>\n",
       "      <th>0</th>\n",
       "      <td>ham</td>\n",
       "      <td>Go until jurong point, crazy.. Available only ...</td>\n",
       "    </tr>\n",
       "    <tr>\n",
       "      <th>1</th>\n",
       "      <td>ham</td>\n",
       "      <td>Ok lar... Joking wif u oni...</td>\n",
       "    </tr>\n",
       "    <tr>\n",
       "      <th>2</th>\n",
       "      <td>spam</td>\n",
       "      <td>Free entry in 2 a wkly comp to win FA Cup fina...</td>\n",
       "    </tr>\n",
       "    <tr>\n",
       "      <th>3</th>\n",
       "      <td>ham</td>\n",
       "      <td>U dun say so early hor... U c already then say...</td>\n",
       "    </tr>\n",
       "    <tr>\n",
       "      <th>4</th>\n",
       "      <td>ham</td>\n",
       "      <td>Nah I don't think he goes to usf, he lives aro...</td>\n",
       "    </tr>\n",
       "  </tbody>\n",
       "</table>\n",
       "</div>"
      ],
      "text/plain": [
       "   type                                               text\n",
       "0   ham  Go until jurong point, crazy.. Available only ...\n",
       "1   ham                      Ok lar... Joking wif u oni...\n",
       "2  spam  Free entry in 2 a wkly comp to win FA Cup fina...\n",
       "3   ham  U dun say so early hor... U c already then say...\n",
       "4   ham  Nah I don't think he goes to usf, he lives aro..."
      ]
     },
     "execution_count": 2,
     "metadata": {},
     "output_type": "execute_result"
    }
   ],
   "source": [
    "import pandas as pd\n",
    "import numpy as np\n",
    "from sklearn.feature_extraction.text import TfidfVectorizer\n",
    "from sklearn.preprocessing import StandardScaler, LabelEncoder\n",
    "from sklearn.linear_model.logistic import LogisticRegression\n",
    "from sklearn.model_selection import train_test_split, cross_val_score\n",
    "from sklearn import metrics\n",
    "from sklearn.metrics import confusion_matrix, classification_report, mean_squared_error\n",
    "import matplotlib.pyplot as plt\n",
    "%matplotlib inline\n",
    "\n",
    "#df = pd.read_csv('./project_data/spam.csv', delimiter='\\t',header=None)\n",
    "df = pd.read_csv('./project_data/sms_spam.csv',delimiter=',',encoding='UTF-8')\n",
    "df.head()"
   ]
  },
  {
   "cell_type": "code",
   "execution_count": 2,
   "metadata": {
    "scrolled": true
   },
   "outputs": [
    {
     "data": {
      "text/html": [
       "<div>\n",
       "<style scoped>\n",
       "    .dataframe tbody tr th:only-of-type {\n",
       "        vertical-align: middle;\n",
       "    }\n",
       "\n",
       "    .dataframe tbody tr th {\n",
       "        vertical-align: top;\n",
       "    }\n",
       "\n",
       "    .dataframe thead th {\n",
       "        text-align: right;\n",
       "    }\n",
       "</style>\n",
       "<table border=\"1\" class=\"dataframe\">\n",
       "  <thead>\n",
       "    <tr style=\"text-align: right;\">\n",
       "      <th></th>\n",
       "      <th>type</th>\n",
       "      <th>text</th>\n",
       "    </tr>\n",
       "  </thead>\n",
       "  <tbody>\n",
       "    <tr>\n",
       "      <th>0</th>\n",
       "      <td>ham</td>\n",
       "      <td>Go until jurong point, crazy.. Available only ...</td>\n",
       "    </tr>\n",
       "    <tr>\n",
       "      <th>1</th>\n",
       "      <td>ham</td>\n",
       "      <td>Ok lar... Joking wif u oni...</td>\n",
       "    </tr>\n",
       "    <tr>\n",
       "      <th>2</th>\n",
       "      <td>spam</td>\n",
       "      <td>Free entry in 2 a wkly comp to win FA Cup fina...</td>\n",
       "    </tr>\n",
       "    <tr>\n",
       "      <th>3</th>\n",
       "      <td>ham</td>\n",
       "      <td>U dun say so early hor... U c already then say...</td>\n",
       "    </tr>\n",
       "    <tr>\n",
       "      <th>4</th>\n",
       "      <td>ham</td>\n",
       "      <td>Nah I don't think he goes to usf, he lives aro...</td>\n",
       "    </tr>\n",
       "    <tr>\n",
       "      <th>...</th>\n",
       "      <td>...</td>\n",
       "      <td>...</td>\n",
       "    </tr>\n",
       "    <tr>\n",
       "      <th>5569</th>\n",
       "      <td>spam</td>\n",
       "      <td>This is the 2nd time we have tried 2 contact u...</td>\n",
       "    </tr>\n",
       "    <tr>\n",
       "      <th>5570</th>\n",
       "      <td>ham</td>\n",
       "      <td>Will ü b going to esplanade fr home?</td>\n",
       "    </tr>\n",
       "    <tr>\n",
       "      <th>5571</th>\n",
       "      <td>ham</td>\n",
       "      <td>Pity, * was in mood for that. So...any other s...</td>\n",
       "    </tr>\n",
       "    <tr>\n",
       "      <th>5572</th>\n",
       "      <td>ham</td>\n",
       "      <td>The guy did some bitching but I acted like i'd...</td>\n",
       "    </tr>\n",
       "    <tr>\n",
       "      <th>5573</th>\n",
       "      <td>ham</td>\n",
       "      <td>Rofl. Its true to its name</td>\n",
       "    </tr>\n",
       "  </tbody>\n",
       "</table>\n",
       "<p>5574 rows × 2 columns</p>\n",
       "</div>"
      ],
      "text/plain": [
       "      type                                               text\n",
       "0      ham  Go until jurong point, crazy.. Available only ...\n",
       "1      ham                      Ok lar... Joking wif u oni...\n",
       "2     spam  Free entry in 2 a wkly comp to win FA Cup fina...\n",
       "3      ham  U dun say so early hor... U c already then say...\n",
       "4      ham  Nah I don't think he goes to usf, he lives aro...\n",
       "...    ...                                                ...\n",
       "5569  spam  This is the 2nd time we have tried 2 contact u...\n",
       "5570   ham               Will ü b going to esplanade fr home?\n",
       "5571   ham  Pity, * was in mood for that. So...any other s...\n",
       "5572   ham  The guy did some bitching but I acted like i'd...\n",
       "5573   ham                         Rofl. Its true to its name\n",
       "\n",
       "[5574 rows x 2 columns]"
      ]
     },
     "execution_count": 2,
     "metadata": {},
     "output_type": "execute_result"
    }
   ],
   "source": [
    "df.iloc[:,:2]"
   ]
  },
  {
   "cell_type": "code",
   "execution_count": 3,
   "metadata": {
    "scrolled": true
   },
   "outputs": [
    {
     "data": {
      "text/plain": [
       "0        ham\n",
       "1        ham\n",
       "2       spam\n",
       "3        ham\n",
       "4        ham\n",
       "        ... \n",
       "5569    spam\n",
       "5570     ham\n",
       "5571     ham\n",
       "5572     ham\n",
       "5573     ham\n",
       "Name: type, Length: 5574, dtype: object"
      ]
     },
     "execution_count": 3,
     "metadata": {},
     "output_type": "execute_result"
    }
   ],
   "source": [
    "df.iloc[:,0]"
   ]
  },
  {
   "cell_type": "code",
   "execution_count": 4,
   "metadata": {},
   "outputs": [
    {
     "data": {
      "text/plain": [
       "0        ham\n",
       "1        ham\n",
       "2       spam\n",
       "3        ham\n",
       "4        ham\n",
       "        ... \n",
       "5569    spam\n",
       "5570     ham\n",
       "5571     ham\n",
       "5572     ham\n",
       "5573     ham\n",
       "Name: type, Length: 5574, dtype: object"
      ]
     },
     "execution_count": 4,
     "metadata": {},
     "output_type": "execute_result"
    }
   ],
   "source": [
    "df.type"
   ]
  },
  {
   "cell_type": "code",
   "execution_count": 5,
   "metadata": {},
   "outputs": [
    {
     "data": {
      "text/plain": [
       "0       Go until jurong point, crazy.. Available only ...\n",
       "1                           Ok lar... Joking wif u oni...\n",
       "2       Free entry in 2 a wkly comp to win FA Cup fina...\n",
       "3       U dun say so early hor... U c already then say...\n",
       "4       Nah I don't think he goes to usf, he lives aro...\n",
       "                              ...                        \n",
       "5569    This is the 2nd time we have tried 2 contact u...\n",
       "5570                 Will ü b going to esplanade fr home?\n",
       "5571    Pity, * was in mood for that. So...any other s...\n",
       "5572    The guy did some bitching but I acted like i'd...\n",
       "5573                           Rofl. Its true to its name\n",
       "Name: text, Length: 5574, dtype: object"
      ]
     },
     "execution_count": 5,
     "metadata": {},
     "output_type": "execute_result"
    }
   ],
   "source": [
    "df.text"
   ]
  },
  {
   "cell_type": "markdown",
   "metadata": {},
   "source": [
    "### Logistic_Regression"
   ]
  },
  {
   "cell_type": "code",
   "execution_count": 8,
   "metadata": {},
   "outputs": [
    {
     "name": "stdout",
     "output_type": "stream",
     "text": [
      "Accuracy is 0.9641255605381166\n",
      "MSE: 0.03587443946188341\n",
      "confusion matrix:\n",
      " [[948   2]\n",
      " [ 38 127]]\n",
      "              precision    recall  f1-score   support\n",
      "\n",
      "         ham       0.96      1.00      0.98       950\n",
      "        spam       0.98      0.77      0.86       165\n",
      "\n",
      "    accuracy                           0.96      1115\n",
      "   macro avg       0.97      0.88      0.92      1115\n",
      "weighted avg       0.96      0.96      0.96      1115\n",
      "\n"
     ]
    }
   ],
   "source": [
    "X_train_raw, X_test_raw, y_train, y_test = train_test_split(df.text,df.type,test_size=0.2,random_state = 0)\n",
    "\n",
    "le = LabelEncoder()\n",
    "\n",
    "Y_train = le.fit_transform(y_train)\n",
    "\n",
    "Y_test = le.fit_transform(y_test)\n",
    "\n",
    "vectorizer = TfidfVectorizer()\n",
    "X_train = vectorizer.fit_transform(X_train_raw)\n",
    "classifier = LogisticRegression()\n",
    "classifier.fit(X_train, Y_train)\n",
    "\n",
    "X_test = vectorizer.transform(X_test_raw)\n",
    "predictions = classifier.predict(X_test)\n",
    "#print(predictions)\n",
    "print ('Accuracy is {}'.format(classifier.score(X_test, Y_test)))\n",
    "\n",
    "y_pred = pd.DataFrame(predictions)\n",
    "print('MSE: {}'.format(mean_squared_error(Y_test, y_pred)))\n",
    "      \n",
    "comat = confusion_matrix(Y_test, y_pred)\n",
    "\n",
    "print('confusion matrix:\\n {}'.format(comat))\n",
    "\n",
    "print(classification_report(Y_test, y_pred, target_names=['ham', 'spam']))"
   ]
  },
  {
   "cell_type": "code",
   "execution_count": 9,
   "metadata": {},
   "outputs": [
    {
     "data": {
      "image/png": "[encoded data removed]",
      "text/plain": [
       "<Figure size 432x288 with 1 Axes>"
      ]
     },
     "metadata": {
      "needs_background": "light"
     },
     "output_type": "display_data"
    }
   ],
   "source": [
    "y_predicted_logistic = classifier.predict_proba(X_test)[:, 1]\n",
    "\n",
    "fpr_logistic, tpr_logistic, thresholds_logistic = metrics.roc_curve(Y_test, y_predicted_logistic)\n",
    "\n",
    "auc_logistic = metrics.auc(fpr_logistic, tpr_logistic)\n",
    "\n",
    "plt.plot(fpr_logistic, tpr_logistic, label='Logistic Regression (AUC = %.2f)'%auc_logistic)\n",
    "plt.legend()\n",
    "plt.title('ROC curve')\n",
    "plt.xlabel('False Positive Rate')\n",
    "plt.ylabel('True Positive Rate')\n",
    "plt.grid(True)\n",
    "plt.show()"
   ]
  },
  {
   "cell_type": "markdown",
   "metadata": {},
   "source": [
    "## Using the cross-validation"
   ]
  },
  {
   "cell_type": "markdown",
   "metadata": {},
   "source": [
    "## Since I changed the scikit-learn to use the cross-validation, if you implement the following code, please change your _validation.py (sklearn/model_selection/_validation.py) to _validation.py I provided."
   ]
  },
  {
   "cell_type": "code",
   "execution_count": 10,
   "metadata": {},
   "outputs": [],
   "source": [
    "from sklearn.model_selection import cross_val_score, KFold, StratifiedKFold, StratifiedShuffleSplit\n",
    "from sklearn.linear_model import LogisticRegression "
   ]
  },
  {
   "cell_type": "code",
   "execution_count": 11,
   "metadata": {},
   "outputs": [],
   "source": [
    "X_row = df.text.values.tolist()\n",
    "y_row = df.type.values.tolist()"
   ]
  },
  {
   "cell_type": "code",
   "execution_count": 12,
   "metadata": {},
   "outputs": [],
   "source": [
    "vectorizer = TfidfVectorizer()\n",
    "data = vectorizer.fit_transform(X_row)"
   ]
  },
  {
   "cell_type": "code",
   "execution_count": 13,
   "metadata": {},
   "outputs": [],
   "source": [
    "le = LabelEncoder()\n",
    "\n",
    "label = le.fit_transform(y_row)"
   ]
  },
  {
   "cell_type": "code",
   "execution_count": 14,
   "metadata": {
    "scrolled": true
   },
   "outputs": [
    {
     "name": "stdout",
     "output_type": "stream",
     "text": [
      "['ham', 'ham', 'spam', 'ham', 'ham', 'spam', 'ham', 'ham', 'spam', 'spam']\n",
      "[0 0 1 0 0 1 0 0 1 1]\n"
     ]
    }
   ],
   "source": [
    "print(y_row[:10])\n",
    "print(label[:10])"
   ]
  },
  {
   "cell_type": "code",
   "execution_count": 13,
   "metadata": {},
   "outputs": [],
   "source": [
    "logreg = LogisticRegression()"
   ]
  },
  {
   "cell_type": "code",
   "execution_count": 14,
   "metadata": {},
   "outputs": [],
   "source": [
    "kfold = StratifiedKFold(n_splits=5, shuffle = True, random_state = 0)"
   ]
  },
  {
   "cell_type": "code",
   "execution_count": 15,
   "metadata": {},
   "outputs": [
    {
     "name": "stdout",
     "output_type": "stream",
     "text": [
      "Cross-validation scores: [0.96681614 0.967713   0.95426009 0.96591928 0.96409336]\n",
      "Average cross-validation score: 0.9637603754900935\n",
      "MSE: [0.03318386 0.032287   0.04573991 0.03408072 0.03590664]\n",
      "Average MSE: 0.03623962450990653\n"
     ]
    }
   ],
   "source": [
    "scores = cross_val_score(logreg, data, label, cv=kfold)\n",
    "\n",
    "print(\"Cross-validation scores: {}\".format(scores[\"results\"]))\n",
    "print(\"Average cross-validation score: {}\".format(scores[\"results\"].mean()))\n",
    "print(\"MSE: {}\".format(scores[\"mse\"]))\n",
    "print(\"Average MSE: {}\".format(scores[\"mse\"].mean()))"
   ]
  },
  {
   "cell_type": "code",
   "execution_count": 16,
   "metadata": {},
   "outputs": [
    {
     "name": "stdout",
     "output_type": "stream",
     "text": [
      "Confusion matrix1:\n",
      "[[965   1]\n",
      " [ 36 113]]\n",
      "Confusion matrix2:\n",
      "[[965   1]\n",
      " [ 35 114]]\n",
      "Confusion matrix3:\n",
      "[[964   1]\n",
      " [ 50 100]]\n",
      "Confusion matrix4:\n",
      "[[963   2]\n",
      " [ 36 114]]\n",
      "Confusion matrix5:\n",
      "[[964   1]\n",
      " [ 39 110]]\n"
     ]
    }
   ],
   "source": [
    "for i in range(len(scores[\"conf\"])):\n",
    "    print(\"Confusion matrix\" + str(i+1) + \":\\n{}\".format(scores[\"conf\"][i]))"
   ]
  },
  {
   "cell_type": "code",
   "execution_count": 17,
   "metadata": {},
   "outputs": [
    {
     "name": "stdout",
     "output_type": "stream",
     "text": [
      "Classification Report1:\n",
      "                  ham        spam  accuracy    macro avg  weighted avg\n",
      "precision    0.964036    0.991228  0.966816     0.977632      0.967670\n",
      "recall       0.998965    0.758389  0.966816     0.878677      0.966816\n",
      "f1-score     0.981190    0.859316  0.966816     0.920253      0.964903\n",
      "support    966.000000  149.000000  0.966816  1115.000000   1115.000000\n",
      "\n",
      "Classification Report2:\n",
      "                  ham        spam  accuracy    macro avg  weighted avg\n",
      "precision    0.965000    0.991304  0.967713     0.978152      0.968515\n",
      "recall       0.998965    0.765101  0.967713     0.882033      0.967713\n",
      "f1-score     0.981689    0.863636  0.967713     0.922663      0.965913\n",
      "support    966.000000  149.000000  0.967713  1115.000000   1115.000000\n",
      "\n",
      "Classification Report3:\n",
      "                  ham        spam  accuracy    macro avg  weighted avg\n",
      "precision    0.950690    0.990099   0.95426     0.970395      0.955992\n",
      "recall       0.998964    0.666667   0.95426     0.832815      0.954260\n",
      "f1-score     0.974229    0.796813   0.95426     0.885521      0.950362\n",
      "support    965.000000  150.000000   0.95426  1115.000000   1115.000000\n",
      "\n",
      "Classification Report4:\n",
      "                  ham        spam  accuracy    macro avg  weighted avg\n",
      "precision    0.963964    0.982759  0.965919     0.973361      0.966492\n",
      "recall       0.997927    0.760000  0.965919     0.878964      0.965919\n",
      "f1-score     0.980652    0.857143  0.965919     0.918897      0.964036\n",
      "support    965.000000  150.000000  0.965919  1115.000000   1115.000000\n",
      "\n",
      "Classification Report5:\n",
      "                  ham        spam  accuracy    macro avg  weighted avg\n",
      "precision    0.961117    0.990991  0.964093     0.976054      0.965112\n",
      "recall       0.998964    0.738255  0.964093     0.868609      0.964093\n",
      "f1-score     0.979675    0.846154  0.964093     0.912914      0.961816\n",
      "support    965.000000  149.000000  0.964093  1114.000000   1114.000000\n",
      "\n"
     ]
    }
   ],
   "source": [
    "for i in range(len(scores[\"class_report\"])):\n",
    "    report = pd.DataFrame(scores[\"class_report\"][i])\n",
    "    report = report.rename(columns={'0': 'ham', '1': 'spam'})\n",
    "    print(\"Classification Report\" + str(i+1) + \":\\n{}\\n\".format(report))"
   ]
  },
  {
   "cell_type": "code",
   "execution_count": 18,
   "metadata": {},
   "outputs": [
    {
     "data": {
      "image/png": "[encoded data removed]",
      "text/plain": [
       "<Figure size 432x288 with 1 Axes>"
      ]
     },
     "metadata": {
      "needs_background": "light"
     },
     "output_type": "display_data"
    }
   ],
   "source": [
    "for i in range(len(scores[\"prob\"])):\n",
    "    # calculate FPR, TPR\n",
    "    fpr_logistic, tpr_logistic, thresholds_logistic = metrics.roc_curve(scores[\"prob\"][i][1], scores[\"prob\"][i][0][:,1])\n",
    "\n",
    "    # calculate AUC\n",
    "    auc_logistic = metrics.auc(fpr_logistic, tpr_logistic)\n",
    "\n",
    "    # plot ROC curves\n",
    "    plt.plot(fpr_logistic, tpr_logistic, label='Logistic Regression' + str(i+1) + '(AUC = %.2f)'%auc_logistic)\n",
    "    plt.legend()\n",
    "    plt.title('ROC curve')\n",
    "    plt.xlabel('False Positive Rate')\n",
    "    plt.ylabel('True Positive Rate')\n",
    "    plt.grid(True)\n",
    "    #plt.show()\n",
    "    plt.savefig('ROC_logistic.png')"
   ]
  },
  {
   "cell_type": "code",
   "execution_count": null,
   "metadata": {},
   "outputs": [],
   "source": []
  }
 ],
 "metadata": {
  "kernelspec": {
   "display_name": "Python 3",
   "language": "python",
   "name": "python3"
  },
  "language_info": {
   "codemirror_mode": {
    "name": "ipython",
    "version": 3
   },
   "file_extension": ".py",
   "mimetype": "text/x-python",
   "name": "python",
   "nbconvert_exporter": "python",
   "pygments_lexer": "ipython3",
   "version": "3.6.9"
  }
 },
 "nbformat": 4,
 "nbformat_minor": 2
}
